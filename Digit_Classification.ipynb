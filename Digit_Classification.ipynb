{
 "cells": [
  {
   "cell_type": "markdown",
   "id": "a099442f",
   "metadata": {},
   "source": [
    "## Importing Libraries"
   ]
  },
  {
   "cell_type": "code",
   "execution_count": 1,
   "id": "e26f7536",
   "metadata": {},
   "outputs": [],
   "source": [
    "import tensorflow_datasets as tfds\n",
    "import numpy as np\n",
    "import tensorflow as tf"
   ]
  },
  {
   "cell_type": "markdown",
   "id": "0070de4c",
   "metadata": {},
   "source": [
    "## Data Preprocessing"
   ]
  },
  {
   "cell_type": "code",
   "execution_count": 2,
   "id": "3a08e33b",
   "metadata": {},
   "outputs": [],
   "source": [
    "mnist_dataset,mnist_info = tfds.load(name='mnist',with_info=True,as_supervised=True)"
   ]
  },
  {
   "cell_type": "code",
   "execution_count": 3,
   "id": "a17e3093",
   "metadata": {},
   "outputs": [],
   "source": [
    "mnist_train , mnist_test = mnist_dataset['train'] , mnist_dataset['test']\n",
    "\n",
    "num_valid_samples = 0.1 * mnist_info.splits['train'].num_examples\n",
    "num_valid_samples = tf.cast(num_valid_samples, tf.int64)\n",
    "\n",
    "num_test_samples = mnist_info.splits['test'].num_examples\n",
    "num_test_samples = tf.cast(num_test_samples, tf.int64)\n",
    "\n",
    "\n",
    "def scale(image,label):\n",
    "    image = tf.cast(image , tf.float32)\n",
    "    image /= 255.  #the images are grayscaled,hence there are only 255 different shades\n",
    "    return image,label\n",
    "\n",
    "scaled_train_and_valid_data = mnist_train.map(scale)\n",
    "scaled_test_data = mnist_test.map(scale)"
   ]
  },
  {
   "cell_type": "code",
   "execution_count": 4,
   "id": "63936a33",
   "metadata": {},
   "outputs": [],
   "source": [
    "Buffer_size = 10000\n",
    "\n",
    "shuffled_train_and_valid_data = scaled_train_and_valid_data.shuffle(Buffer_size)\n",
    "\n",
    "validation_data = shuffled_train_and_valid_data.take(num_valid_samples)\n",
    "train_data = shuffled_train_and_valid_data.skip(num_valid_samples)\n"
   ]
  },
  {
   "cell_type": "code",
   "execution_count": 5,
   "id": "a3333f55",
   "metadata": {},
   "outputs": [],
   "source": [
    "batch_size=100\n",
    "train_data = train_data.batch(batch_size)\n",
    "validation_data = validation_data.batch(num_valid_samples) \n",
    "scaled_test_data = scaled_test_data.batch(num_test_samples)             \n",
    "\n",
    "validation_inputs,validation_targets = next(iter(validation_data))"
   ]
  },
  {
   "cell_type": "markdown",
   "id": "785e104c",
   "metadata": {},
   "source": [
    "## Model using TF"
   ]
  },
  {
   "cell_type": "code",
   "execution_count": 27,
   "id": "293b5c1c",
   "metadata": {},
   "outputs": [],
   "source": [
    "input_size = 784 #since the size of 1 image is 28 x 28 pixels\n",
    "output_size = 10 #since there are 10 digits\n",
    "hiddenlayer_size = 200\n",
    "\n",
    "model = tf.keras.Sequential([\n",
    "                             tf.keras.layers.Flatten(input_shape = (28,28,1)),\n",
    "                             tf.keras.layers.Dense(hiddenlayer_size,activation = 'relu'),\n",
    "                             tf.keras.layers.Dense(hiddenlayer_size,activation = 'relu'),\n",
    "                             tf.keras.layers.Dense(output_size,activation = 'softmax')      \n",
    "                           ])"
   ]
  },
  {
   "cell_type": "code",
   "execution_count": 28,
   "id": "dcb746e5",
   "metadata": {},
   "outputs": [],
   "source": [
    "model.compile(optimizer = 'adam',loss = 'sparse_categorical_crossentropy', metrics = ['accuracy'])\n",
    "#choosing the optimization algo. and loss function"
   ]
  },
  {
   "cell_type": "markdown",
   "id": "84ee166e",
   "metadata": {},
   "source": [
    "## Training the Model"
   ]
  },
  {
   "cell_type": "code",
   "execution_count": 29,
   "id": "043ec8d8",
   "metadata": {},
   "outputs": [
    {
     "name": "stdout",
     "output_type": "stream",
     "text": [
      "Epoch 1/5\n",
      "540/540 - 2s - loss: 0.2717 - accuracy: 0.9211 - val_loss: 0.1272 - val_accuracy: 0.9627 - 2s/epoch - 4ms/step\n",
      "Epoch 2/5\n",
      "540/540 - 2s - loss: 0.1053 - accuracy: 0.9681 - val_loss: 0.0905 - val_accuracy: 0.9720 - 2s/epoch - 3ms/step\n",
      "Epoch 3/5\n",
      "540/540 - 2s - loss: 0.0687 - accuracy: 0.9787 - val_loss: 0.0765 - val_accuracy: 0.9768 - 2s/epoch - 3ms/step\n",
      "Epoch 4/5\n",
      "540/540 - 2s - loss: 0.0509 - accuracy: 0.9836 - val_loss: 0.0589 - val_accuracy: 0.9812 - 2s/epoch - 3ms/step\n",
      "Epoch 5/5\n",
      "540/540 - 2s - loss: 0.0388 - accuracy: 0.9874 - val_loss: 0.0529 - val_accuracy: 0.9832 - 2s/epoch - 3ms/step\n"
     ]
    },
    {
     "data": {
      "text/plain": [
       "<keras.callbacks.History at 0x1b12f222250>"
      ]
     },
     "execution_count": 29,
     "metadata": {},
     "output_type": "execute_result"
    }
   ],
   "source": [
    "num_epochs = 5\n",
    "\n",
    "model.fit(train_data, epochs=num_epochs,validation_data = (validation_inputs,validation_targets),validation_steps=1, verbose = 2)"
   ]
  },
  {
   "cell_type": "code",
   "execution_count": 31,
   "id": "cf6667a9",
   "metadata": {},
   "outputs": [
    {
     "name": "stdout",
     "output_type": "stream",
     "text": [
      "1/1 [==============================] - 0s 473ms/step - loss: 0.0838 - accuracy: 0.9734\n"
     ]
    }
   ],
   "source": [
    "test_loss,test_accuracy = model.evaluate(scaled_test_data)"
   ]
  },
  {
   "cell_type": "code",
   "execution_count": 35,
   "id": "61e1c1ba",
   "metadata": {},
   "outputs": [
    {
     "name": "stdout",
     "output_type": "stream",
     "text": [
      "0.0838194414973259 0.9733999967575073\n"
     ]
    }
   ],
   "source": [
    "print(test_loss,test_accuracy)"
   ]
  }
 ],
 "metadata": {
  "kernelspec": {
   "display_name": "Python 3 (ipykernel)",
   "language": "python",
   "name": "python3"
  },
  "language_info": {
   "codemirror_mode": {
    "name": "ipython",
    "version": 3
   },
   "file_extension": ".py",
   "mimetype": "text/x-python",
   "name": "python",
   "nbconvert_exporter": "python",
   "pygments_lexer": "ipython3",
   "version": "3.11.5"
  }
 },
 "nbformat": 4,
 "nbformat_minor": 5
}
